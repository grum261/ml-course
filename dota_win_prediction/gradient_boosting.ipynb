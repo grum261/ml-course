{
 "metadata": {
  "language_info": {
   "codemirror_mode": {
    "name": "ipython",
    "version": 3
   },
   "file_extension": ".py",
   "mimetype": "text/x-python",
   "name": "python",
   "nbconvert_exporter": "python",
   "pygments_lexer": "ipython3",
   "version": "3.8.3-final"
  },
  "orig_nbformat": 2,
  "kernelspec": {
   "name": "python3",
   "display_name": "Python 3"
  }
 },
 "nbformat": 4,
 "nbformat_minor": 2,
 "cells": [
  {
   "cell_type": "code",
   "execution_count": 96,
   "metadata": {},
   "outputs": [],
   "source": [
    "import pandas as pd\n",
    "import numpy as np\n",
    "import xgboost as xgb\n",
    "\n",
    "from sklearn.metrics import roc_auc_score\n",
    "from sklearn.model_selection import train_test_split, GridSearchCV\n",
    "from sklearn.preprocessing import StandardScaler\n",
    "from sklearn.linear_model import LogisticRegression\n",
    "from sklearn.pipeline import Pipeline"
   ]
  },
  {
   "cell_type": "code",
   "execution_count": 6,
   "metadata": {},
   "outputs": [],
   "source": [
    "train, test = [pd.read_csv(f'data/features_{data_type}.csv', index_col='match_id') for data_type in ['train', 'test']]"
   ]
  },
  {
   "cell_type": "code",
   "execution_count": 7,
   "metadata": {},
   "outputs": [
    {
     "output_type": "execute_result",
     "data": {
      "text/plain": [
       "          start_time  lobby_type  r1_hero  r1_level  r1_xp  r1_gold  r1_lh  \\\n",
       "match_id                                                                     \n",
       "0         1430198770           7       11         5   2098     1489     20   \n",
       "1         1430220345           0       42         4   1188     1033      9   \n",
       "2         1430227081           7       33         4   1319     1270     22   \n",
       "3         1430263531           1       29         4   1779     1056     14   \n",
       "4         1430282290           7       13         4   1431     1090      8   \n",
       "...              ...         ...      ...       ...    ...      ...    ...   \n",
       "114402    1450265551           1       47         4   1706     1198     17   \n",
       "114403    1450277704           0       43         4   1793     1416     17   \n",
       "114404    1450291848           1       98         4   1399      540      1   \n",
       "114405    1450292986           1      100         3   1135      766      6   \n",
       "114406    1450313370           7       50         3   1053      799      7   \n",
       "\n",
       "          r1_kills  r1_deaths  r1_items  ...  radiant_first_ward_time  \\\n",
       "match_id                                 ...                            \n",
       "0                0          0         7  ...                     35.0   \n",
       "1                0          1        12  ...                    -20.0   \n",
       "2                0          0        12  ...                    -39.0   \n",
       "3                0          0         5  ...                    -30.0   \n",
       "4                1          0         8  ...                     46.0   \n",
       "...            ...        ...       ...  ...                      ...   \n",
       "114402           0          1         8  ...                    -29.0   \n",
       "114403           0          1         5  ...                     -5.0   \n",
       "114404           0          0         5  ...                    -32.0   \n",
       "114405           0          2         6  ...                    -21.0   \n",
       "114406           0          0         7  ...                    -36.0   \n",
       "\n",
       "          dire_bottle_time  dire_courier_time  dire_flying_courier_time  \\\n",
       "match_id                                                                  \n",
       "0                    103.0              -84.0                     221.0   \n",
       "1                    149.0              -84.0                     195.0   \n",
       "2                     45.0              -77.0                     221.0   \n",
       "3                    124.0              -80.0                     184.0   \n",
       "4                    182.0              -80.0                     225.0   \n",
       "...                    ...                ...                       ...   \n",
       "114402               180.0              -76.0                     180.0   \n",
       "114403                 NaN              -82.0                       NaN   \n",
       "114404               249.0              -70.0                       NaN   \n",
       "114405               254.0              -85.0                     183.0   \n",
       "114406               131.0              -59.0                       NaN   \n",
       "\n",
       "          dire_tpscroll_count  dire_boots_count  dire_ward_observer_count  \\\n",
       "match_id                                                                    \n",
       "0                           3                 4                         2   \n",
       "1                           5                 4                         3   \n",
       "2                           3                 4                         3   \n",
       "3                           0                 4                         2   \n",
       "4                           6                 3                         3   \n",
       "...                       ...               ...                       ...   \n",
       "114402                      3                 4                         3   \n",
       "114403                      4                 3                         2   \n",
       "114404                      1                 1                         3   \n",
       "114405                      5                 3                         3   \n",
       "114406                      5                 3                         2   \n",
       "\n",
       "          dire_ward_sentry_count  dire_first_ward_time  radiant_win  \n",
       "match_id                                                             \n",
       "0                              2                 -52.0            1  \n",
       "1                              1                  -5.0            1  \n",
       "2                              1                  13.0            0  \n",
       "3                              0                  27.0            0  \n",
       "4                              0                 -16.0            0  \n",
       "...                          ...                   ...          ...  \n",
       "114402                         0                 -24.0            0  \n",
       "114403                         0                 -17.0            1  \n",
       "114404                         1                 -15.0            0  \n",
       "114405                         1                 -42.0            0  \n",
       "114406                         0                 -39.0            1  \n",
       "\n",
       "[97230 rows x 103 columns]"
      ],
      "text/html": "<div>\n<style scoped>\n    .dataframe tbody tr th:only-of-type {\n        vertical-align: middle;\n    }\n\n    .dataframe tbody tr th {\n        vertical-align: top;\n    }\n\n    .dataframe thead th {\n        text-align: right;\n    }\n</style>\n<table border=\"1\" class=\"dataframe\">\n  <thead>\n    <tr style=\"text-align: right;\">\n      <th></th>\n      <th>start_time</th>\n      <th>lobby_type</th>\n      <th>r1_hero</th>\n      <th>r1_level</th>\n      <th>r1_xp</th>\n      <th>r1_gold</th>\n      <th>r1_lh</th>\n      <th>r1_kills</th>\n      <th>r1_deaths</th>\n      <th>r1_items</th>\n      <th>...</th>\n      <th>radiant_first_ward_time</th>\n      <th>dire_bottle_time</th>\n      <th>dire_courier_time</th>\n      <th>dire_flying_courier_time</th>\n      <th>dire_tpscroll_count</th>\n      <th>dire_boots_count</th>\n      <th>dire_ward_observer_count</th>\n      <th>dire_ward_sentry_count</th>\n      <th>dire_first_ward_time</th>\n      <th>radiant_win</th>\n    </tr>\n    <tr>\n      <th>match_id</th>\n      <th></th>\n      <th></th>\n      <th></th>\n      <th></th>\n      <th></th>\n      <th></th>\n      <th></th>\n      <th></th>\n      <th></th>\n      <th></th>\n      <th></th>\n      <th></th>\n      <th></th>\n      <th></th>\n      <th></th>\n      <th></th>\n      <th></th>\n      <th></th>\n      <th></th>\n      <th></th>\n      <th></th>\n    </tr>\n  </thead>\n  <tbody>\n    <tr>\n      <th>0</th>\n      <td>1430198770</td>\n      <td>7</td>\n      <td>11</td>\n      <td>5</td>\n      <td>2098</td>\n      <td>1489</td>\n      <td>20</td>\n      <td>0</td>\n      <td>0</td>\n      <td>7</td>\n      <td>...</td>\n      <td>35.0</td>\n      <td>103.0</td>\n      <td>-84.0</td>\n      <td>221.0</td>\n      <td>3</td>\n      <td>4</td>\n      <td>2</td>\n      <td>2</td>\n      <td>-52.0</td>\n      <td>1</td>\n    </tr>\n    <tr>\n      <th>1</th>\n      <td>1430220345</td>\n      <td>0</td>\n      <td>42</td>\n      <td>4</td>\n      <td>1188</td>\n      <td>1033</td>\n      <td>9</td>\n      <td>0</td>\n      <td>1</td>\n      <td>12</td>\n      <td>...</td>\n      <td>-20.0</td>\n      <td>149.0</td>\n      <td>-84.0</td>\n      <td>195.0</td>\n      <td>5</td>\n      <td>4</td>\n      <td>3</td>\n      <td>1</td>\n      <td>-5.0</td>\n      <td>1</td>\n    </tr>\n    <tr>\n      <th>2</th>\n      <td>1430227081</td>\n      <td>7</td>\n      <td>33</td>\n      <td>4</td>\n      <td>1319</td>\n      <td>1270</td>\n      <td>22</td>\n      <td>0</td>\n      <td>0</td>\n      <td>12</td>\n      <td>...</td>\n      <td>-39.0</td>\n      <td>45.0</td>\n      <td>-77.0</td>\n      <td>221.0</td>\n      <td>3</td>\n      <td>4</td>\n      <td>3</td>\n      <td>1</td>\n      <td>13.0</td>\n      <td>0</td>\n    </tr>\n    <tr>\n      <th>3</th>\n      <td>1430263531</td>\n      <td>1</td>\n      <td>29</td>\n      <td>4</td>\n      <td>1779</td>\n      <td>1056</td>\n      <td>14</td>\n      <td>0</td>\n      <td>0</td>\n      <td>5</td>\n      <td>...</td>\n      <td>-30.0</td>\n      <td>124.0</td>\n      <td>-80.0</td>\n      <td>184.0</td>\n      <td>0</td>\n      <td>4</td>\n      <td>2</td>\n      <td>0</td>\n      <td>27.0</td>\n      <td>0</td>\n    </tr>\n    <tr>\n      <th>4</th>\n      <td>1430282290</td>\n      <td>7</td>\n      <td>13</td>\n      <td>4</td>\n      <td>1431</td>\n      <td>1090</td>\n      <td>8</td>\n      <td>1</td>\n      <td>0</td>\n      <td>8</td>\n      <td>...</td>\n      <td>46.0</td>\n      <td>182.0</td>\n      <td>-80.0</td>\n      <td>225.0</td>\n      <td>6</td>\n      <td>3</td>\n      <td>3</td>\n      <td>0</td>\n      <td>-16.0</td>\n      <td>0</td>\n    </tr>\n    <tr>\n      <th>...</th>\n      <td>...</td>\n      <td>...</td>\n      <td>...</td>\n      <td>...</td>\n      <td>...</td>\n      <td>...</td>\n      <td>...</td>\n      <td>...</td>\n      <td>...</td>\n      <td>...</td>\n      <td>...</td>\n      <td>...</td>\n      <td>...</td>\n      <td>...</td>\n      <td>...</td>\n      <td>...</td>\n      <td>...</td>\n      <td>...</td>\n      <td>...</td>\n      <td>...</td>\n      <td>...</td>\n    </tr>\n    <tr>\n      <th>114402</th>\n      <td>1450265551</td>\n      <td>1</td>\n      <td>47</td>\n      <td>4</td>\n      <td>1706</td>\n      <td>1198</td>\n      <td>17</td>\n      <td>0</td>\n      <td>1</td>\n      <td>8</td>\n      <td>...</td>\n      <td>-29.0</td>\n      <td>180.0</td>\n      <td>-76.0</td>\n      <td>180.0</td>\n      <td>3</td>\n      <td>4</td>\n      <td>3</td>\n      <td>0</td>\n      <td>-24.0</td>\n      <td>0</td>\n    </tr>\n    <tr>\n      <th>114403</th>\n      <td>1450277704</td>\n      <td>0</td>\n      <td>43</td>\n      <td>4</td>\n      <td>1793</td>\n      <td>1416</td>\n      <td>17</td>\n      <td>0</td>\n      <td>1</td>\n      <td>5</td>\n      <td>...</td>\n      <td>-5.0</td>\n      <td>NaN</td>\n      <td>-82.0</td>\n      <td>NaN</td>\n      <td>4</td>\n      <td>3</td>\n      <td>2</td>\n      <td>0</td>\n      <td>-17.0</td>\n      <td>1</td>\n    </tr>\n    <tr>\n      <th>114404</th>\n      <td>1450291848</td>\n      <td>1</td>\n      <td>98</td>\n      <td>4</td>\n      <td>1399</td>\n      <td>540</td>\n      <td>1</td>\n      <td>0</td>\n      <td>0</td>\n      <td>5</td>\n      <td>...</td>\n      <td>-32.0</td>\n      <td>249.0</td>\n      <td>-70.0</td>\n      <td>NaN</td>\n      <td>1</td>\n      <td>1</td>\n      <td>3</td>\n      <td>1</td>\n      <td>-15.0</td>\n      <td>0</td>\n    </tr>\n    <tr>\n      <th>114405</th>\n      <td>1450292986</td>\n      <td>1</td>\n      <td>100</td>\n      <td>3</td>\n      <td>1135</td>\n      <td>766</td>\n      <td>6</td>\n      <td>0</td>\n      <td>2</td>\n      <td>6</td>\n      <td>...</td>\n      <td>-21.0</td>\n      <td>254.0</td>\n      <td>-85.0</td>\n      <td>183.0</td>\n      <td>5</td>\n      <td>3</td>\n      <td>3</td>\n      <td>1</td>\n      <td>-42.0</td>\n      <td>0</td>\n    </tr>\n    <tr>\n      <th>114406</th>\n      <td>1450313370</td>\n      <td>7</td>\n      <td>50</td>\n      <td>3</td>\n      <td>1053</td>\n      <td>799</td>\n      <td>7</td>\n      <td>0</td>\n      <td>0</td>\n      <td>7</td>\n      <td>...</td>\n      <td>-36.0</td>\n      <td>131.0</td>\n      <td>-59.0</td>\n      <td>NaN</td>\n      <td>5</td>\n      <td>3</td>\n      <td>2</td>\n      <td>0</td>\n      <td>-39.0</td>\n      <td>1</td>\n    </tr>\n  </tbody>\n</table>\n<p>97230 rows × 103 columns</p>\n</div>"
     },
     "metadata": {},
     "execution_count": 7
    }
   ],
   "source": [
    "train"
   ]
  },
  {
   "cell_type": "code",
   "execution_count": 8,
   "metadata": {},
   "outputs": [
    {
     "output_type": "execute_result",
     "data": {
      "text/plain": [
       "(97230, 103)"
      ]
     },
     "metadata": {},
     "execution_count": 8
    }
   ],
   "source": [
    "train.shape"
   ]
  },
  {
   "cell_type": "code",
   "execution_count": 9,
   "metadata": {},
   "outputs": [
    {
     "output_type": "stream",
     "name": "stdout",
     "text": [
      "<class 'pandas.core.frame.DataFrame'>\nInt64Index: 97230 entries, 0 to 114406\nColumns: 103 entries, start_time to radiant_win\ndtypes: float64(12), int64(91)\nmemory usage: 79.6 MB\n"
     ]
    }
   ],
   "source": [
    "train.info()"
   ]
  },
  {
   "cell_type": "code",
   "execution_count": 11,
   "metadata": {},
   "outputs": [
    {
     "output_type": "execute_result",
     "data": {
      "text/plain": [
       "first_blood_time               77677\n",
       "first_blood_team               77677\n",
       "first_blood_player1            77677\n",
       "first_blood_player2            53243\n",
       "radiant_bottle_time            81539\n",
       "radiant_courier_time           96538\n",
       "radiant_flying_courier_time    69751\n",
       "radiant_first_ward_time        95394\n",
       "dire_bottle_time               81087\n",
       "dire_courier_time              96554\n",
       "dire_flying_courier_time       71132\n",
       "dire_first_ward_time           95404\n",
       "dtype: int64"
      ]
     },
     "metadata": {},
     "execution_count": 11
    }
   ],
   "source": [
    "counts = train.count()\n",
    "counts[counts != len(train)]"
   ]
  },
  {
   "cell_type": "code",
   "execution_count": 12,
   "metadata": {},
   "outputs": [],
   "source": [
    "train = train.apply(lambda x: x.fillna(x.value_counts().index[0]))"
   ]
  },
  {
   "cell_type": "code",
   "execution_count": 20,
   "metadata": {},
   "outputs": [
    {
     "output_type": "execute_result",
     "data": {
      "text/plain": [
       "          start_time  lobby_type  r1_hero  r1_level  r1_xp  r1_gold  r1_lh  \\\n",
       "match_id                                                                     \n",
       "6         1430287923           0       93         4   1103     1089      8   \n",
       "7         1430293357           1       20         2    556      570      1   \n",
       "10        1430301774           1      112         2    751      808      1   \n",
       "13        1430323933           1       27         3    708      903      1   \n",
       "16        1430331112           1       39         4   1259      661      4   \n",
       "...              ...         ...      ...       ...    ...      ...    ...   \n",
       "114369    1450212780           7       11         5   2054     1941     27   \n",
       "114377    1450222875           1        3         3    748      605      1   \n",
       "114378    1450223593           1       85         2    575      499      0   \n",
       "114393    1450244771           0        7         4   1844     1176      8   \n",
       "114398    1450255429           1        8         4   1215     1305     13   \n",
       "\n",
       "          r1_kills  r1_deaths  r1_items  ...  radiant_ward_sentry_count  \\\n",
       "match_id                                 ...                              \n",
       "6                0          1         9  ...                          0   \n",
       "7                0          0         9  ...                          2   \n",
       "10               0          0        13  ...                          1   \n",
       "13               1          1        11  ...                          2   \n",
       "16               0          0         9  ...                          0   \n",
       "...            ...        ...       ...  ...                        ...   \n",
       "114369           0          1         8  ...                          1   \n",
       "114377           0          0        12  ...                          1   \n",
       "114378           0          0         8  ...                          0   \n",
       "114393           1          2         8  ...                          0   \n",
       "114398           0          0        10  ...                          2   \n",
       "\n",
       "          radiant_first_ward_time  dire_bottle_time  dire_courier_time  \\\n",
       "match_id                                                                 \n",
       "6                            12.0             247.0              -86.0   \n",
       "7                           -29.0             168.0              -54.0   \n",
       "10                          -22.0              46.0              -87.0   \n",
       "13                          -49.0              30.0              -89.0   \n",
       "16                           36.0             180.0              -86.0   \n",
       "...                           ...               ...                ...   \n",
       "114369                        8.0             253.0              -87.0   \n",
       "114377                       -1.0             133.0              -85.0   \n",
       "114378                       20.0             133.0              -88.0   \n",
       "114393                      -28.0               NaN              -83.0   \n",
       "114398                       38.0             124.0              -82.0   \n",
       "\n",
       "          dire_flying_courier_time  dire_tpscroll_count  dire_boots_count  \\\n",
       "match_id                                                                    \n",
       "6                            272.0                    3                 4   \n",
       "7                              NaN                    3                 2   \n",
       "10                           186.0                    1                 3   \n",
       "13                           210.0                    3                 4   \n",
       "16                           180.0                    1                 3   \n",
       "...                            ...                  ...               ...   \n",
       "114369                         NaN                    4                 3   \n",
       "114377                       184.0                    2                 3   \n",
       "114378                       239.0                    4                 4   \n",
       "114393                         NaN                    1                 4   \n",
       "114398                       249.0                    4                 2   \n",
       "\n",
       "          dire_ward_observer_count  dire_ward_sentry_count  \\\n",
       "match_id                                                     \n",
       "6                                2                       0   \n",
       "7                                2                       1   \n",
       "10                               3                       0   \n",
       "13                               2                       1   \n",
       "16                               2                       1   \n",
       "...                            ...                     ...   \n",
       "114369                           2                       1   \n",
       "114377                           4                       1   \n",
       "114378                           4                       0   \n",
       "114393                           1                       0   \n",
       "114398                           2                       0   \n",
       "\n",
       "          dire_first_ward_time  \n",
       "match_id                        \n",
       "6                        118.0  \n",
       "7                         16.0  \n",
       "10                       -34.0  \n",
       "13                       -26.0  \n",
       "16                       -33.0  \n",
       "...                        ...  \n",
       "114369                   -33.0  \n",
       "114377                   -18.0  \n",
       "114378                   -36.0  \n",
       "114393                     NaN  \n",
       "114398                    27.0  \n",
       "\n",
       "[17177 rows x 102 columns]"
      ],
      "text/html": "<div>\n<style scoped>\n    .dataframe tbody tr th:only-of-type {\n        vertical-align: middle;\n    }\n\n    .dataframe tbody tr th {\n        vertical-align: top;\n    }\n\n    .dataframe thead th {\n        text-align: right;\n    }\n</style>\n<table border=\"1\" class=\"dataframe\">\n  <thead>\n    <tr style=\"text-align: right;\">\n      <th></th>\n      <th>start_time</th>\n      <th>lobby_type</th>\n      <th>r1_hero</th>\n      <th>r1_level</th>\n      <th>r1_xp</th>\n      <th>r1_gold</th>\n      <th>r1_lh</th>\n      <th>r1_kills</th>\n      <th>r1_deaths</th>\n      <th>r1_items</th>\n      <th>...</th>\n      <th>radiant_ward_sentry_count</th>\n      <th>radiant_first_ward_time</th>\n      <th>dire_bottle_time</th>\n      <th>dire_courier_time</th>\n      <th>dire_flying_courier_time</th>\n      <th>dire_tpscroll_count</th>\n      <th>dire_boots_count</th>\n      <th>dire_ward_observer_count</th>\n      <th>dire_ward_sentry_count</th>\n      <th>dire_first_ward_time</th>\n    </tr>\n    <tr>\n      <th>match_id</th>\n      <th></th>\n      <th></th>\n      <th></th>\n      <th></th>\n      <th></th>\n      <th></th>\n      <th></th>\n      <th></th>\n      <th></th>\n      <th></th>\n      <th></th>\n      <th></th>\n      <th></th>\n      <th></th>\n      <th></th>\n      <th></th>\n      <th></th>\n      <th></th>\n      <th></th>\n      <th></th>\n      <th></th>\n    </tr>\n  </thead>\n  <tbody>\n    <tr>\n      <th>6</th>\n      <td>1430287923</td>\n      <td>0</td>\n      <td>93</td>\n      <td>4</td>\n      <td>1103</td>\n      <td>1089</td>\n      <td>8</td>\n      <td>0</td>\n      <td>1</td>\n      <td>9</td>\n      <td>...</td>\n      <td>0</td>\n      <td>12.0</td>\n      <td>247.0</td>\n      <td>-86.0</td>\n      <td>272.0</td>\n      <td>3</td>\n      <td>4</td>\n      <td>2</td>\n      <td>0</td>\n      <td>118.0</td>\n    </tr>\n    <tr>\n      <th>7</th>\n      <td>1430293357</td>\n      <td>1</td>\n      <td>20</td>\n      <td>2</td>\n      <td>556</td>\n      <td>570</td>\n      <td>1</td>\n      <td>0</td>\n      <td>0</td>\n      <td>9</td>\n      <td>...</td>\n      <td>2</td>\n      <td>-29.0</td>\n      <td>168.0</td>\n      <td>-54.0</td>\n      <td>NaN</td>\n      <td>3</td>\n      <td>2</td>\n      <td>2</td>\n      <td>1</td>\n      <td>16.0</td>\n    </tr>\n    <tr>\n      <th>10</th>\n      <td>1430301774</td>\n      <td>1</td>\n      <td>112</td>\n      <td>2</td>\n      <td>751</td>\n      <td>808</td>\n      <td>1</td>\n      <td>0</td>\n      <td>0</td>\n      <td>13</td>\n      <td>...</td>\n      <td>1</td>\n      <td>-22.0</td>\n      <td>46.0</td>\n      <td>-87.0</td>\n      <td>186.0</td>\n      <td>1</td>\n      <td>3</td>\n      <td>3</td>\n      <td>0</td>\n      <td>-34.0</td>\n    </tr>\n    <tr>\n      <th>13</th>\n      <td>1430323933</td>\n      <td>1</td>\n      <td>27</td>\n      <td>3</td>\n      <td>708</td>\n      <td>903</td>\n      <td>1</td>\n      <td>1</td>\n      <td>1</td>\n      <td>11</td>\n      <td>...</td>\n      <td>2</td>\n      <td>-49.0</td>\n      <td>30.0</td>\n      <td>-89.0</td>\n      <td>210.0</td>\n      <td>3</td>\n      <td>4</td>\n      <td>2</td>\n      <td>1</td>\n      <td>-26.0</td>\n    </tr>\n    <tr>\n      <th>16</th>\n      <td>1430331112</td>\n      <td>1</td>\n      <td>39</td>\n      <td>4</td>\n      <td>1259</td>\n      <td>661</td>\n      <td>4</td>\n      <td>0</td>\n      <td>0</td>\n      <td>9</td>\n      <td>...</td>\n      <td>0</td>\n      <td>36.0</td>\n      <td>180.0</td>\n      <td>-86.0</td>\n      <td>180.0</td>\n      <td>1</td>\n      <td>3</td>\n      <td>2</td>\n      <td>1</td>\n      <td>-33.0</td>\n    </tr>\n    <tr>\n      <th>...</th>\n      <td>...</td>\n      <td>...</td>\n      <td>...</td>\n      <td>...</td>\n      <td>...</td>\n      <td>...</td>\n      <td>...</td>\n      <td>...</td>\n      <td>...</td>\n      <td>...</td>\n      <td>...</td>\n      <td>...</td>\n      <td>...</td>\n      <td>...</td>\n      <td>...</td>\n      <td>...</td>\n      <td>...</td>\n      <td>...</td>\n      <td>...</td>\n      <td>...</td>\n      <td>...</td>\n    </tr>\n    <tr>\n      <th>114369</th>\n      <td>1450212780</td>\n      <td>7</td>\n      <td>11</td>\n      <td>5</td>\n      <td>2054</td>\n      <td>1941</td>\n      <td>27</td>\n      <td>0</td>\n      <td>1</td>\n      <td>8</td>\n      <td>...</td>\n      <td>1</td>\n      <td>8.0</td>\n      <td>253.0</td>\n      <td>-87.0</td>\n      <td>NaN</td>\n      <td>4</td>\n      <td>3</td>\n      <td>2</td>\n      <td>1</td>\n      <td>-33.0</td>\n    </tr>\n    <tr>\n      <th>114377</th>\n      <td>1450222875</td>\n      <td>1</td>\n      <td>3</td>\n      <td>3</td>\n      <td>748</td>\n      <td>605</td>\n      <td>1</td>\n      <td>0</td>\n      <td>0</td>\n      <td>12</td>\n      <td>...</td>\n      <td>1</td>\n      <td>-1.0</td>\n      <td>133.0</td>\n      <td>-85.0</td>\n      <td>184.0</td>\n      <td>2</td>\n      <td>3</td>\n      <td>4</td>\n      <td>1</td>\n      <td>-18.0</td>\n    </tr>\n    <tr>\n      <th>114378</th>\n      <td>1450223593</td>\n      <td>1</td>\n      <td>85</td>\n      <td>2</td>\n      <td>575</td>\n      <td>499</td>\n      <td>0</td>\n      <td>0</td>\n      <td>0</td>\n      <td>8</td>\n      <td>...</td>\n      <td>0</td>\n      <td>20.0</td>\n      <td>133.0</td>\n      <td>-88.0</td>\n      <td>239.0</td>\n      <td>4</td>\n      <td>4</td>\n      <td>4</td>\n      <td>0</td>\n      <td>-36.0</td>\n    </tr>\n    <tr>\n      <th>114393</th>\n      <td>1450244771</td>\n      <td>0</td>\n      <td>7</td>\n      <td>4</td>\n      <td>1844</td>\n      <td>1176</td>\n      <td>8</td>\n      <td>1</td>\n      <td>2</td>\n      <td>8</td>\n      <td>...</td>\n      <td>0</td>\n      <td>-28.0</td>\n      <td>NaN</td>\n      <td>-83.0</td>\n      <td>NaN</td>\n      <td>1</td>\n      <td>4</td>\n      <td>1</td>\n      <td>0</td>\n      <td>NaN</td>\n    </tr>\n    <tr>\n      <th>114398</th>\n      <td>1450255429</td>\n      <td>1</td>\n      <td>8</td>\n      <td>4</td>\n      <td>1215</td>\n      <td>1305</td>\n      <td>13</td>\n      <td>0</td>\n      <td>0</td>\n      <td>10</td>\n      <td>...</td>\n      <td>2</td>\n      <td>38.0</td>\n      <td>124.0</td>\n      <td>-82.0</td>\n      <td>249.0</td>\n      <td>4</td>\n      <td>2</td>\n      <td>2</td>\n      <td>0</td>\n      <td>27.0</td>\n    </tr>\n  </tbody>\n</table>\n<p>17177 rows × 102 columns</p>\n</div>"
     },
     "metadata": {},
     "execution_count": 20
    }
   ],
   "source": [
    "test"
   ]
  },
  {
   "cell_type": "code",
   "execution_count": 21,
   "metadata": {},
   "outputs": [
    {
     "output_type": "execute_result",
     "data": {
      "text/plain": [
       "(17177, 102)"
      ]
     },
     "metadata": {},
     "execution_count": 21
    }
   ],
   "source": [
    "test.shape"
   ]
  },
  {
   "cell_type": "code",
   "execution_count": 22,
   "metadata": {},
   "outputs": [
    {
     "output_type": "stream",
     "name": "stdout",
     "text": [
      "<class 'pandas.core.frame.DataFrame'>\nInt64Index: 17177 entries, 6 to 114398\nColumns: 102 entries, start_time to dire_first_ward_time\ndtypes: float64(12), int64(90)\nmemory usage: 14.1 MB\n"
     ]
    }
   ],
   "source": [
    "test.info()"
   ]
  },
  {
   "cell_type": "code",
   "execution_count": 23,
   "metadata": {},
   "outputs": [
    {
     "output_type": "execute_result",
     "data": {
      "text/plain": [
       "first_blood_time               13625\n",
       "first_blood_team               13625\n",
       "first_blood_player1            13625\n",
       "first_blood_player2             9411\n",
       "radiant_bottle_time            14282\n",
       "radiant_courier_time           17050\n",
       "radiant_flying_courier_time    12292\n",
       "radiant_first_ward_time        16847\n",
       "dire_bottle_time               14335\n",
       "dire_courier_time              17047\n",
       "dire_flying_courier_time       12653\n",
       "dire_first_ward_time           16914\n",
       "dtype: int64"
      ]
     },
     "metadata": {},
     "execution_count": 23
    }
   ],
   "source": [
    "test.count()[test.count() != len(test)]"
   ]
  },
  {
   "cell_type": "code",
   "execution_count": 31,
   "metadata": {},
   "outputs": [],
   "source": [
    "x_train, x_test, y_train, y_test = train_test_split(train.drop('radiant_win', axis=1), train['radiant_win'], test_size=0.05, random_state=1)"
   ]
  },
  {
   "cell_type": "code",
   "execution_count": 70,
   "metadata": {},
   "outputs": [],
   "source": [
    "params = {\n",
    "    'objective': 'binary:logistic',\n",
    "    'random_state': 1,\n",
    "    'learning_rate': 0.1\n",
    "}"
   ]
  },
  {
   "cell_type": "code",
   "execution_count": 87,
   "metadata": {},
   "outputs": [
    {
     "output_type": "stream",
     "name": "stdout",
     "text": [
      "[0]\ttrain-auc:0.64974+0.00131\ttest-auc:0.62539+0.00256\n",
      "[1]\ttrain-auc:0.67236+0.00256\ttest-auc:0.64437+0.00200\n",
      "[2]\ttrain-auc:0.68509+0.00187\ttest-auc:0.65535+0.00186\n",
      "[3]\ttrain-auc:0.69196+0.00090\ttest-auc:0.66036+0.00306\n",
      "[4]\ttrain-auc:0.69812+0.00167\ttest-auc:0.66530+0.00338\n",
      "[5]\ttrain-auc:0.70341+0.00162\ttest-auc:0.67000+0.00296\n",
      "[6]\ttrain-auc:0.70885+0.00137\ttest-auc:0.67477+0.00245\n",
      "[7]\ttrain-auc:0.71325+0.00147\ttest-auc:0.67810+0.00323\n",
      "[8]\ttrain-auc:0.71667+0.00120\ttest-auc:0.68059+0.00334\n",
      "[9]\ttrain-auc:0.71934+0.00087\ttest-auc:0.68256+0.00294\n",
      "[10]\ttrain-auc:0.72215+0.00074\ttest-auc:0.68484+0.00322\n",
      "[11]\ttrain-auc:0.72430+0.00080\ttest-auc:0.68657+0.00312\n",
      "[12]\ttrain-auc:0.72643+0.00044\ttest-auc:0.68794+0.00348\n",
      "[13]\ttrain-auc:0.72831+0.00062\ttest-auc:0.68921+0.00332\n",
      "[14]\ttrain-auc:0.73018+0.00072\ttest-auc:0.69017+0.00306\n",
      "[15]\ttrain-auc:0.73203+0.00054\ttest-auc:0.69132+0.00324\n",
      "[16]\ttrain-auc:0.73371+0.00083\ttest-auc:0.69240+0.00291\n",
      "[17]\ttrain-auc:0.73567+0.00076\ttest-auc:0.69360+0.00299\n",
      "[18]\ttrain-auc:0.73723+0.00068\ttest-auc:0.69440+0.00317\n",
      "[19]\ttrain-auc:0.73863+0.00075\ttest-auc:0.69519+0.00331\n",
      "[20]\ttrain-auc:0.74007+0.00070\ttest-auc:0.69587+0.00329\n",
      "[21]\ttrain-auc:0.74139+0.00066\ttest-auc:0.69640+0.00335\n",
      "[22]\ttrain-auc:0.74274+0.00061\ttest-auc:0.69701+0.00350\n",
      "[23]\ttrain-auc:0.74416+0.00072\ttest-auc:0.69773+0.00348\n",
      "[24]\ttrain-auc:0.74544+0.00068\ttest-auc:0.69819+0.00346\n",
      "[25]\ttrain-auc:0.74678+0.00077\ttest-auc:0.69884+0.00346\n",
      "[26]\ttrain-auc:0.74797+0.00074\ttest-auc:0.69928+0.00351\n",
      "[27]\ttrain-auc:0.74924+0.00078\ttest-auc:0.69966+0.00344\n",
      "[28]\ttrain-auc:0.75047+0.00095\ttest-auc:0.70009+0.00332\n",
      "[29]\ttrain-auc:0.75154+0.00101\ttest-auc:0.70044+0.00342\n",
      "[30]\ttrain-auc:0.75275+0.00112\ttest-auc:0.70099+0.00345\n",
      "[31]\ttrain-auc:0.75382+0.00103\ttest-auc:0.70147+0.00343\n",
      "[32]\ttrain-auc:0.75502+0.00097\ttest-auc:0.70185+0.00349\n",
      "[33]\ttrain-auc:0.75618+0.00083\ttest-auc:0.70227+0.00360\n",
      "[34]\ttrain-auc:0.75736+0.00079\ttest-auc:0.70269+0.00361\n",
      "[35]\ttrain-auc:0.75844+0.00080\ttest-auc:0.70310+0.00366\n",
      "[36]\ttrain-auc:0.75950+0.00077\ttest-auc:0.70334+0.00375\n",
      "[37]\ttrain-auc:0.76038+0.00080\ttest-auc:0.70352+0.00369\n",
      "[38]\ttrain-auc:0.76139+0.00082\ttest-auc:0.70388+0.00371\n",
      "[39]\ttrain-auc:0.76240+0.00078\ttest-auc:0.70412+0.00376\n",
      "[40]\ttrain-auc:0.76355+0.00073\ttest-auc:0.70438+0.00371\n",
      "[41]\ttrain-auc:0.76457+0.00077\ttest-auc:0.70473+0.00363\n",
      "[42]\ttrain-auc:0.76558+0.00079\ttest-auc:0.70507+0.00371\n",
      "[43]\ttrain-auc:0.76653+0.00086\ttest-auc:0.70539+0.00369\n",
      "[44]\ttrain-auc:0.76751+0.00100\ttest-auc:0.70558+0.00366\n",
      "[45]\ttrain-auc:0.76846+0.00097\ttest-auc:0.70579+0.00371\n",
      "[46]\ttrain-auc:0.76934+0.00086\ttest-auc:0.70600+0.00362\n",
      "[47]\ttrain-auc:0.77028+0.00080\ttest-auc:0.70615+0.00367\n",
      "[48]\ttrain-auc:0.77123+0.00077\ttest-auc:0.70630+0.00361\n",
      "[49]\ttrain-auc:0.77203+0.00074\ttest-auc:0.70657+0.00359\n",
      "[50]\ttrain-auc:0.77290+0.00080\ttest-auc:0.70676+0.00358\n",
      "[51]\ttrain-auc:0.77359+0.00079\ttest-auc:0.70683+0.00350\n",
      "[52]\ttrain-auc:0.77447+0.00076\ttest-auc:0.70698+0.00350\n",
      "[53]\ttrain-auc:0.77535+0.00081\ttest-auc:0.70729+0.00347\n",
      "[54]\ttrain-auc:0.77607+0.00067\ttest-auc:0.70741+0.00346\n",
      "[55]\ttrain-auc:0.77689+0.00064\ttest-auc:0.70764+0.00353\n",
      "[56]\ttrain-auc:0.77771+0.00060\ttest-auc:0.70776+0.00349\n",
      "[57]\ttrain-auc:0.77867+0.00065\ttest-auc:0.70786+0.00349\n",
      "[58]\ttrain-auc:0.77950+0.00077\ttest-auc:0.70800+0.00348\n",
      "[59]\ttrain-auc:0.78040+0.00078\ttest-auc:0.70819+0.00350\n",
      "[60]\ttrain-auc:0.78123+0.00075\ttest-auc:0.70838+0.00343\n",
      "[61]\ttrain-auc:0.78206+0.00077\ttest-auc:0.70854+0.00348\n",
      "[62]\ttrain-auc:0.78299+0.00076\ttest-auc:0.70873+0.00341\n",
      "[63]\ttrain-auc:0.78394+0.00078\ttest-auc:0.70889+0.00339\n",
      "[64]\ttrain-auc:0.78474+0.00072\ttest-auc:0.70905+0.00332\n",
      "[65]\ttrain-auc:0.78558+0.00071\ttest-auc:0.70917+0.00326\n",
      "[66]\ttrain-auc:0.78641+0.00068\ttest-auc:0.70930+0.00314\n",
      "[67]\ttrain-auc:0.78735+0.00074\ttest-auc:0.70941+0.00315\n",
      "[68]\ttrain-auc:0.78825+0.00068\ttest-auc:0.70954+0.00318\n",
      "[69]\ttrain-auc:0.78900+0.00060\ttest-auc:0.70967+0.00320\n",
      "[70]\ttrain-auc:0.78970+0.00072\ttest-auc:0.70983+0.00314\n",
      "[71]\ttrain-auc:0.79034+0.00079\ttest-auc:0.70991+0.00311\n",
      "[72]\ttrain-auc:0.79129+0.00087\ttest-auc:0.71020+0.00305\n",
      "[73]\ttrain-auc:0.79203+0.00088\ttest-auc:0.71028+0.00305\n",
      "[74]\ttrain-auc:0.79277+0.00086\ttest-auc:0.71039+0.00305\n",
      "[75]\ttrain-auc:0.79359+0.00062\ttest-auc:0.71058+0.00302\n",
      "[76]\ttrain-auc:0.79440+0.00070\ttest-auc:0.71073+0.00302\n",
      "[77]\ttrain-auc:0.79523+0.00071\ttest-auc:0.71090+0.00304\n",
      "[78]\ttrain-auc:0.79594+0.00073\ttest-auc:0.71100+0.00306\n",
      "[79]\ttrain-auc:0.79664+0.00080\ttest-auc:0.71117+0.00304\n",
      "[80]\ttrain-auc:0.79732+0.00080\ttest-auc:0.71128+0.00301\n",
      "[81]\ttrain-auc:0.79807+0.00083\ttest-auc:0.71137+0.00299\n",
      "[82]\ttrain-auc:0.79888+0.00077\ttest-auc:0.71144+0.00294\n",
      "[83]\ttrain-auc:0.79965+0.00063\ttest-auc:0.71160+0.00294\n",
      "[84]\ttrain-auc:0.80046+0.00067\ttest-auc:0.71175+0.00294\n",
      "[85]\ttrain-auc:0.80114+0.00069\ttest-auc:0.71184+0.00290\n",
      "[86]\ttrain-auc:0.80195+0.00063\ttest-auc:0.71197+0.00293\n",
      "[87]\ttrain-auc:0.80277+0.00066\ttest-auc:0.71214+0.00297\n",
      "[88]\ttrain-auc:0.80348+0.00072\ttest-auc:0.71224+0.00289\n",
      "[89]\ttrain-auc:0.80426+0.00074\ttest-auc:0.71235+0.00285\n",
      "[90]\ttrain-auc:0.80499+0.00060\ttest-auc:0.71237+0.00283\n",
      "[91]\ttrain-auc:0.80567+0.00064\ttest-auc:0.71252+0.00272\n",
      "[92]\ttrain-auc:0.80630+0.00077\ttest-auc:0.71261+0.00269\n",
      "[93]\ttrain-auc:0.80705+0.00073\ttest-auc:0.71273+0.00264\n",
      "[94]\ttrain-auc:0.80767+0.00067\ttest-auc:0.71286+0.00268\n",
      "[95]\ttrain-auc:0.80831+0.00071\ttest-auc:0.71295+0.00267\n",
      "[96]\ttrain-auc:0.80900+0.00072\ttest-auc:0.71305+0.00267\n",
      "[97]\ttrain-auc:0.80965+0.00071\ttest-auc:0.71309+0.00268\n",
      "[98]\ttrain-auc:0.81040+0.00073\ttest-auc:0.71325+0.00269\n",
      "[99]\ttrain-auc:0.81092+0.00091\ttest-auc:0.71329+0.00271\n",
      "[100]\ttrain-auc:0.81162+0.00094\ttest-auc:0.71338+0.00265\n",
      "[101]\ttrain-auc:0.81234+0.00093\ttest-auc:0.71345+0.00265\n",
      "[102]\ttrain-auc:0.81300+0.00097\ttest-auc:0.71353+0.00276\n",
      "[103]\ttrain-auc:0.81374+0.00097\ttest-auc:0.71362+0.00265\n",
      "[104]\ttrain-auc:0.81450+0.00100\ttest-auc:0.71368+0.00268\n",
      "[105]\ttrain-auc:0.81517+0.00091\ttest-auc:0.71379+0.00267\n",
      "[106]\ttrain-auc:0.81579+0.00086\ttest-auc:0.71388+0.00272\n",
      "[107]\ttrain-auc:0.81633+0.00075\ttest-auc:0.71396+0.00266\n",
      "[108]\ttrain-auc:0.81703+0.00069\ttest-auc:0.71402+0.00271\n",
      "[109]\ttrain-auc:0.81752+0.00081\ttest-auc:0.71409+0.00268\n",
      "[110]\ttrain-auc:0.81805+0.00078\ttest-auc:0.71425+0.00261\n",
      "[111]\ttrain-auc:0.81865+0.00073\ttest-auc:0.71430+0.00259\n",
      "[112]\ttrain-auc:0.81924+0.00068\ttest-auc:0.71432+0.00256\n",
      "[113]\ttrain-auc:0.82000+0.00071\ttest-auc:0.71432+0.00258\n",
      "[114]\ttrain-auc:0.82059+0.00053\ttest-auc:0.71443+0.00258\n",
      "[115]\ttrain-auc:0.82117+0.00058\ttest-auc:0.71451+0.00254\n",
      "[116]\ttrain-auc:0.82189+0.00065\ttest-auc:0.71459+0.00258\n",
      "[117]\ttrain-auc:0.82236+0.00067\ttest-auc:0.71464+0.00259\n",
      "[118]\ttrain-auc:0.82303+0.00065\ttest-auc:0.71472+0.00258\n",
      "[119]\ttrain-auc:0.82364+0.00063\ttest-auc:0.71477+0.00264\n",
      "[120]\ttrain-auc:0.82415+0.00072\ttest-auc:0.71484+0.00264\n",
      "[121]\ttrain-auc:0.82469+0.00064\ttest-auc:0.71488+0.00265\n",
      "[122]\ttrain-auc:0.82530+0.00045\ttest-auc:0.71494+0.00265\n",
      "[123]\ttrain-auc:0.82590+0.00049\ttest-auc:0.71499+0.00259\n",
      "[124]\ttrain-auc:0.82638+0.00056\ttest-auc:0.71506+0.00259\n",
      "[125]\ttrain-auc:0.82710+0.00054\ttest-auc:0.71510+0.00258\n",
      "[126]\ttrain-auc:0.82769+0.00039\ttest-auc:0.71515+0.00255\n",
      "[127]\ttrain-auc:0.82824+0.00056\ttest-auc:0.71524+0.00249\n",
      "[128]\ttrain-auc:0.82869+0.00068\ttest-auc:0.71531+0.00246\n",
      "[129]\ttrain-auc:0.82929+0.00055\ttest-auc:0.71534+0.00250\n",
      "[130]\ttrain-auc:0.82990+0.00051\ttest-auc:0.71545+0.00244\n",
      "[131]\ttrain-auc:0.83035+0.00061\ttest-auc:0.71546+0.00245\n",
      "[132]\ttrain-auc:0.83092+0.00063\ttest-auc:0.71553+0.00249\n",
      "[133]\ttrain-auc:0.83142+0.00057\ttest-auc:0.71558+0.00248\n",
      "[134]\ttrain-auc:0.83195+0.00063\ttest-auc:0.71560+0.00247\n",
      "[135]\ttrain-auc:0.83249+0.00068\ttest-auc:0.71562+0.00253\n",
      "[136]\ttrain-auc:0.83301+0.00065\ttest-auc:0.71567+0.00255\n",
      "[137]\ttrain-auc:0.83347+0.00072\ttest-auc:0.71571+0.00252\n",
      "[138]\ttrain-auc:0.83391+0.00069\ttest-auc:0.71581+0.00251\n",
      "[139]\ttrain-auc:0.83449+0.00067\ttest-auc:0.71584+0.00242\n",
      "[140]\ttrain-auc:0.83513+0.00058\ttest-auc:0.71590+0.00240\n",
      "[141]\ttrain-auc:0.83566+0.00056\ttest-auc:0.71593+0.00242\n",
      "[142]\ttrain-auc:0.83624+0.00060\ttest-auc:0.71603+0.00245\n",
      "[143]\ttrain-auc:0.83683+0.00059\ttest-auc:0.71618+0.00244\n",
      "[144]\ttrain-auc:0.83727+0.00068\ttest-auc:0.71622+0.00245\n",
      "[145]\ttrain-auc:0.83774+0.00076\ttest-auc:0.71625+0.00236\n",
      "[146]\ttrain-auc:0.83823+0.00072\ttest-auc:0.71629+0.00237\n",
      "[147]\ttrain-auc:0.83878+0.00066\ttest-auc:0.71634+0.00230\n",
      "[148]\ttrain-auc:0.83922+0.00054\ttest-auc:0.71634+0.00229\n",
      "[149]\ttrain-auc:0.83975+0.00048\ttest-auc:0.71641+0.00231\n",
      "[150]\ttrain-auc:0.84020+0.00048\ttest-auc:0.71642+0.00231\n",
      "[151]\ttrain-auc:0.84075+0.00043\ttest-auc:0.71646+0.00227\n",
      "[152]\ttrain-auc:0.84126+0.00046\ttest-auc:0.71648+0.00229\n",
      "[153]\ttrain-auc:0.84170+0.00058\ttest-auc:0.71655+0.00224\n",
      "[154]\ttrain-auc:0.84224+0.00056\ttest-auc:0.71659+0.00225\n",
      "[155]\ttrain-auc:0.84278+0.00048\ttest-auc:0.71664+0.00229\n",
      "[156]\ttrain-auc:0.84322+0.00032\ttest-auc:0.71666+0.00227\n",
      "[157]\ttrain-auc:0.84359+0.00032\ttest-auc:0.71671+0.00227\n",
      "[158]\ttrain-auc:0.84410+0.00026\ttest-auc:0.71678+0.00227\n",
      "[159]\ttrain-auc:0.84465+0.00042\ttest-auc:0.71684+0.00227\n",
      "[160]\ttrain-auc:0.84522+0.00046\ttest-auc:0.71693+0.00220\n",
      "[161]\ttrain-auc:0.84577+0.00037\ttest-auc:0.71696+0.00219\n",
      "[162]\ttrain-auc:0.84622+0.00042\ttest-auc:0.71696+0.00215\n",
      "[163]\ttrain-auc:0.84665+0.00053\ttest-auc:0.71704+0.00211\n",
      "[164]\ttrain-auc:0.84702+0.00056\ttest-auc:0.71708+0.00211\n",
      "[165]\ttrain-auc:0.84755+0.00054\ttest-auc:0.71711+0.00211\n",
      "[166]\ttrain-auc:0.84799+0.00061\ttest-auc:0.71713+0.00212\n",
      "[167]\ttrain-auc:0.84833+0.00061\ttest-auc:0.71714+0.00210\n",
      "[168]\ttrain-auc:0.84880+0.00067\ttest-auc:0.71719+0.00206\n",
      "[169]\ttrain-auc:0.84914+0.00062\ttest-auc:0.71721+0.00203\n",
      "[170]\ttrain-auc:0.84964+0.00058\ttest-auc:0.71721+0.00203\n",
      "[171]\ttrain-auc:0.85013+0.00056\ttest-auc:0.71723+0.00212\n",
      "[172]\ttrain-auc:0.85076+0.00061\ttest-auc:0.71731+0.00209\n",
      "[173]\ttrain-auc:0.85126+0.00050\ttest-auc:0.71731+0.00211\n",
      "[174]\ttrain-auc:0.85178+0.00045\ttest-auc:0.71732+0.00208\n",
      "[175]\ttrain-auc:0.85227+0.00038\ttest-auc:0.71734+0.00207\n",
      "[176]\ttrain-auc:0.85271+0.00045\ttest-auc:0.71726+0.00209\n",
      "[177]\ttrain-auc:0.85323+0.00044\ttest-auc:0.71729+0.00209\n",
      "[178]\ttrain-auc:0.85370+0.00045\ttest-auc:0.71731+0.00214\n",
      "[179]\ttrain-auc:0.85409+0.00048\ttest-auc:0.71737+0.00221\n",
      "[180]\ttrain-auc:0.85447+0.00049\ttest-auc:0.71736+0.00218\n",
      "[181]\ttrain-auc:0.85488+0.00039\ttest-auc:0.71739+0.00221\n",
      "[182]\ttrain-auc:0.85527+0.00032\ttest-auc:0.71740+0.00224\n",
      "[183]\ttrain-auc:0.85571+0.00038\ttest-auc:0.71743+0.00226\n",
      "[184]\ttrain-auc:0.85613+0.00040\ttest-auc:0.71746+0.00225\n",
      "[185]\ttrain-auc:0.85638+0.00034\ttest-auc:0.71748+0.00222\n",
      "[186]\ttrain-auc:0.85659+0.00041\ttest-auc:0.71750+0.00222\n",
      "[187]\ttrain-auc:0.85701+0.00029\ttest-auc:0.71754+0.00224\n",
      "[188]\ttrain-auc:0.85753+0.00029\ttest-auc:0.71752+0.00223\n",
      "[189]\ttrain-auc:0.85799+0.00024\ttest-auc:0.71758+0.00220\n",
      "[190]\ttrain-auc:0.85837+0.00033\ttest-auc:0.71760+0.00221\n",
      "[191]\ttrain-auc:0.85884+0.00046\ttest-auc:0.71757+0.00221\n",
      "[192]\ttrain-auc:0.85935+0.00037\ttest-auc:0.71767+0.00220\n",
      "[193]\ttrain-auc:0.85986+0.00039\ttest-auc:0.71765+0.00217\n",
      "[194]\ttrain-auc:0.86033+0.00031\ttest-auc:0.71766+0.00217\n",
      "[195]\ttrain-auc:0.86075+0.00030\ttest-auc:0.71769+0.00218\n",
      "[196]\ttrain-auc:0.86116+0.00038\ttest-auc:0.71770+0.00216\n",
      "[197]\ttrain-auc:0.86164+0.00039\ttest-auc:0.71765+0.00212\n",
      "[198]\ttrain-auc:0.86209+0.00050\ttest-auc:0.71768+0.00215\n",
      "[199]\ttrain-auc:0.86249+0.00045\ttest-auc:0.71774+0.00217\n",
      "[200]\ttrain-auc:0.86278+0.00047\ttest-auc:0.71774+0.00218\n",
      "[201]\ttrain-auc:0.86315+0.00044\ttest-auc:0.71777+0.00217\n",
      "[202]\ttrain-auc:0.86361+0.00043\ttest-auc:0.71778+0.00213\n",
      "[203]\ttrain-auc:0.86404+0.00041\ttest-auc:0.71781+0.00216\n",
      "[204]\ttrain-auc:0.86429+0.00055\ttest-auc:0.71781+0.00220\n",
      "[205]\ttrain-auc:0.86462+0.00044\ttest-auc:0.71780+0.00220\n",
      "[206]\ttrain-auc:0.86499+0.00043\ttest-auc:0.71777+0.00219\n",
      "[207]\ttrain-auc:0.86537+0.00045\ttest-auc:0.71781+0.00218\n",
      "[208]\ttrain-auc:0.86586+0.00046\ttest-auc:0.71787+0.00216\n",
      "[209]\ttrain-auc:0.86633+0.00033\ttest-auc:0.71785+0.00222\n",
      "[210]\ttrain-auc:0.86679+0.00035\ttest-auc:0.71789+0.00220\n",
      "[211]\ttrain-auc:0.86707+0.00035\ttest-auc:0.71790+0.00224\n",
      "[212]\ttrain-auc:0.86748+0.00037\ttest-auc:0.71798+0.00224\n",
      "[213]\ttrain-auc:0.86781+0.00042\ttest-auc:0.71797+0.00224\n",
      "[214]\ttrain-auc:0.86802+0.00044\ttest-auc:0.71796+0.00222\n",
      "[215]\ttrain-auc:0.86834+0.00050\ttest-auc:0.71792+0.00220\n",
      "[216]\ttrain-auc:0.86872+0.00047\ttest-auc:0.71790+0.00219\n",
      "[217]\ttrain-auc:0.86901+0.00048\ttest-auc:0.71786+0.00222\n",
      "[218]\ttrain-auc:0.86939+0.00041\ttest-auc:0.71786+0.00224\n",
      "[219]\ttrain-auc:0.86990+0.00046\ttest-auc:0.71788+0.00225\n",
      "[220]\ttrain-auc:0.87026+0.00040\ttest-auc:0.71789+0.00226\n",
      "[221]\ttrain-auc:0.87065+0.00043\ttest-auc:0.71791+0.00223\n"
     ]
    }
   ],
   "source": [
    "cv_res = xgb.cv(params, xgb.DMatrix(x_train, label=y_train), \n",
    "                num_boost_round=1000, early_stopping_rounds=10, seed=1, metrics='auc', nfold=5, verbose_eval=True)"
   ]
  }
}
