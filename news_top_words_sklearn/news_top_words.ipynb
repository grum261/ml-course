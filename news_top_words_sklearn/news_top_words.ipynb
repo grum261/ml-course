{
  "nbformat": 4,
  "nbformat_minor": 0,
  "metadata": {
    "colab": {
      "name": "news_top_words.ipynb",
      "provenance": [],
      "collapsed_sections": []
    },
    "kernelspec": {
      "name": "python3",
      "display_name": "Python 3"
    }
  },
  "cells": [
    {
      "cell_type": "code",
      "metadata": {
        "id": "_Tnj9YcasP5j"
      },
      "source": [
        "import numpy as np\n",
        "import pandas as pd\n",
        "\n",
        "from sklearn.datasets import fetch_20newsgroups\n",
        "from sklearn.feature_extraction.text import TfidfVectorizer\n",
        "from sklearn.svm import SVC\n",
        "from sklearn.model_selection import KFold, GridSearchCV\n",
        "from sklearn.pipeline import Pipeline"
      ],
      "execution_count": 5,
      "outputs": []
    },
    {
      "cell_type": "code",
      "metadata": {
        "id": "OZtaEkz5udH9"
      },
      "source": [
        "news = fetch_20newsgroups(subset='all')"
      ],
      "execution_count": 40,
      "outputs": []
    },
    {
      "cell_type": "markdown",
      "metadata": {
        "id": "lLS8yRSh7Mgl"
      },
      "source": [
        "<h1>Data overview"
      ]
    },
    {
      "cell_type": "code",
      "metadata": {
        "colab": {
          "base_uri": "https://localhost:8080/",
          "height": 419
        },
        "id": "CummVmgn2Qkr",
        "outputId": "1e45144f-f951-40b6-a302-3faa583e3a01"
      },
      "source": [
        "pd.DataFrame({'text': news.data, 'category': news.target})"
      ],
      "execution_count": 41,
      "outputs": [
        {
          "output_type": "execute_result",
          "data": {
            "text/html": [
              "<div>\n",
              "<style scoped>\n",
              "    .dataframe tbody tr th:only-of-type {\n",
              "        vertical-align: middle;\n",
              "    }\n",
              "\n",
              "    .dataframe tbody tr th {\n",
              "        vertical-align: top;\n",
              "    }\n",
              "\n",
              "    .dataframe thead th {\n",
              "        text-align: right;\n",
              "    }\n",
              "</style>\n",
              "<table border=\"1\" class=\"dataframe\">\n",
              "  <thead>\n",
              "    <tr style=\"text-align: right;\">\n",
              "      <th></th>\n",
              "      <th>text</th>\n",
              "      <th>category</th>\n",
              "    </tr>\n",
              "  </thead>\n",
              "  <tbody>\n",
              "    <tr>\n",
              "      <th>0</th>\n",
              "      <td>From: Mamatha Devineni Ratnam &lt;mr47+@andrew.cm...</td>\n",
              "      <td>10</td>\n",
              "    </tr>\n",
              "    <tr>\n",
              "      <th>1</th>\n",
              "      <td>From: mblawson@midway.ecn.uoknor.edu (Matthew ...</td>\n",
              "      <td>3</td>\n",
              "    </tr>\n",
              "    <tr>\n",
              "      <th>2</th>\n",
              "      <td>From: hilmi-er@dsv.su.se (Hilmi Eren)\\nSubject...</td>\n",
              "      <td>17</td>\n",
              "    </tr>\n",
              "    <tr>\n",
              "      <th>3</th>\n",
              "      <td>From: guyd@austin.ibm.com (Guy Dawson)\\nSubjec...</td>\n",
              "      <td>3</td>\n",
              "    </tr>\n",
              "    <tr>\n",
              "      <th>4</th>\n",
              "      <td>From: Alexander Samuel McDiarmid &lt;am2o+@andrew...</td>\n",
              "      <td>4</td>\n",
              "    </tr>\n",
              "    <tr>\n",
              "      <th>...</th>\n",
              "      <td>...</td>\n",
              "      <td>...</td>\n",
              "    </tr>\n",
              "    <tr>\n",
              "      <th>18841</th>\n",
              "      <td>From: jim.zisfein@factory.com (Jim Zisfein) \\n...</td>\n",
              "      <td>13</td>\n",
              "    </tr>\n",
              "    <tr>\n",
              "      <th>18842</th>\n",
              "      <td>From: rdell@cbnewsf.cb.att.com (richard.b.dell...</td>\n",
              "      <td>12</td>\n",
              "    </tr>\n",
              "    <tr>\n",
              "      <th>18843</th>\n",
              "      <td>From: westes@netcom.com (Will Estes)\\nSubject:...</td>\n",
              "      <td>3</td>\n",
              "    </tr>\n",
              "    <tr>\n",
              "      <th>18844</th>\n",
              "      <td>From: steve@hcrlgw (Steven Collins)\\nSubject: ...</td>\n",
              "      <td>1</td>\n",
              "    </tr>\n",
              "    <tr>\n",
              "      <th>18845</th>\n",
              "      <td>From: chriss@netcom.com (Chris Silvester)\\nSub...</td>\n",
              "      <td>7</td>\n",
              "    </tr>\n",
              "  </tbody>\n",
              "</table>\n",
              "<p>18846 rows × 2 columns</p>\n",
              "</div>"
            ],
            "text/plain": [
              "                                                    text  category\n",
              "0      From: Mamatha Devineni Ratnam <mr47+@andrew.cm...        10\n",
              "1      From: mblawson@midway.ecn.uoknor.edu (Matthew ...         3\n",
              "2      From: hilmi-er@dsv.su.se (Hilmi Eren)\\nSubject...        17\n",
              "3      From: guyd@austin.ibm.com (Guy Dawson)\\nSubjec...         3\n",
              "4      From: Alexander Samuel McDiarmid <am2o+@andrew...         4\n",
              "...                                                  ...       ...\n",
              "18841  From: jim.zisfein@factory.com (Jim Zisfein) \\n...        13\n",
              "18842  From: rdell@cbnewsf.cb.att.com (richard.b.dell...        12\n",
              "18843  From: westes@netcom.com (Will Estes)\\nSubject:...         3\n",
              "18844  From: steve@hcrlgw (Steven Collins)\\nSubject: ...         1\n",
              "18845  From: chriss@netcom.com (Chris Silvester)\\nSub...         7\n",
              "\n",
              "[18846 rows x 2 columns]"
            ]
          },
          "metadata": {
            "tags": []
          },
          "execution_count": 41
        }
      ]
    },
    {
      "cell_type": "markdown",
      "metadata": {
        "id": "XP-rXc2H7YzQ"
      },
      "source": [
        "<h1>Pipeline model with TFIDF and GridSearch"
      ]
    },
    {
      "cell_type": "code",
      "metadata": {
        "id": "ePpOSBcR2zdd"
      },
      "source": [
        "pipe = Pipeline(\n",
        "    [\n",
        "     ('tfidf', TfidfVectorizer()),\n",
        "     ('svc', SVC(random_state=241, verbose=True, kernel='linear'))\n",
        "    ], verbose=True\n",
        ")"
      ],
      "execution_count": 18,
      "outputs": []
    },
    {
      "cell_type": "code",
      "metadata": {
        "id": "YsM5mVBr3n-U"
      },
      "source": [
        "grid = {\n",
        "    'svc__C': np.power(10., np.arange(-5, 5))\n",
        "}"
      ],
      "execution_count": 25,
      "outputs": []
    },
    {
      "cell_type": "code",
      "metadata": {
        "id": "nKBQ1qbE33cS"
      },
      "source": [
        "kf = KFold(5, True, 241)\n",
        "gs = GridSearchCV(pipe, grid, n_jobs=-1, cv=kf)"
      ],
      "execution_count": 26,
      "outputs": []
    },
    {
      "cell_type": "code",
      "metadata": {
        "colab": {
          "base_uri": "https://localhost:8080/"
        },
        "id": "NgXtqtwB4XCQ",
        "outputId": "c73942ff-bc3f-48a8-b9c8-7540a319a49a"
      },
      "source": [
        "gs.fit(a.data, a.target)"
      ],
      "execution_count": 34,
      "outputs": [
        {
          "output_type": "stream",
          "text": [
            "[Pipeline] ............. (step 1 of 2) Processing tfidf, total=   0.3s\n",
            "[LibSVM][Pipeline] ............... (step 2 of 2) Processing svc, total=   1.1s\n"
          ],
          "name": "stdout"
        },
        {
          "output_type": "execute_result",
          "data": {
            "text/plain": [
              "GridSearchCV(cv=KFold(n_splits=5, random_state=241, shuffle=True),\n",
              "             error_score=nan,\n",
              "             estimator=Pipeline(memory=None,\n",
              "                                steps=[('tfidf',\n",
              "                                        TfidfVectorizer(analyzer='word',\n",
              "                                                        binary=False,\n",
              "                                                        decode_error='strict',\n",
              "                                                        dtype=<class 'numpy.float64'>,\n",
              "                                                        encoding='utf-8',\n",
              "                                                        input='content',\n",
              "                                                        lowercase=True,\n",
              "                                                        max_df=1.0,\n",
              "                                                        max_features=None,\n",
              "                                                        min_df=1,\n",
              "                                                        ngram_range=(1, 1),\n",
              "                                                        norm='l2',\n",
              "                                                        preprocessor=...\n",
              "                                            degree=3, gamma='scale',\n",
              "                                            kernel='linear', max_iter=-1,\n",
              "                                            probability=False, random_state=241,\n",
              "                                            shrinking=True, tol=0.001,\n",
              "                                            verbose=True))],\n",
              "                                verbose=True),\n",
              "             iid='deprecated', n_jobs=-1,\n",
              "             param_grid={'svc__C': array([1.e-05, 1.e-04, 1.e-03, 1.e-02, 1.e-01, 1.e+00, 1.e+01, 1.e+02,\n",
              "       1.e+03, 1.e+04])},\n",
              "             pre_dispatch='2*n_jobs', refit=True, return_train_score=False,\n",
              "             scoring=None, verbose=0)"
            ]
          },
          "metadata": {
            "tags": []
          },
          "execution_count": 34
        }
      ]
    },
    {
      "cell_type": "markdown",
      "metadata": {
        "id": "3RombnWM71y_"
      },
      "source": [
        "<h1>or make it more imperative than Pipeline"
      ]
    },
    {
      "cell_type": "code",
      "metadata": {
        "id": "YfboGxrjvsdW"
      },
      "source": [
        "tfidf = TfidfVectorizer()\n",
        "spm = tfidf.fit_transform(x)"
      ],
      "execution_count": null,
      "outputs": []
    },
    {
      "cell_type": "code",
      "metadata": {
        "id": "G2LwkXsywJUO"
      },
      "source": [
        "grid = {\n",
        "    'C': np.power(10., np.arange(-5, 6)),\n",
        "    'kernel': ['linear'],\n",
        "    'verbose': [True],\n",
        "    'random_state': [241]\n",
        "}\n",
        "cv = KFold(5, True, random_state=241)\n",
        "svc = SVC()\n",
        "grid_search = GridSearchCV(svc, grid, scoring='accuracy', n_jobs=-1, verbose=1, cv=cv)"
      ],
      "execution_count": null,
      "outputs": []
    },
    {
      "cell_type": "markdown",
      "metadata": {
        "id": "erVMao4p8G65"
      },
      "source": [
        "<h1>Fitting and choose model with the pest parameters"
      ]
    },
    {
      "cell_type": "code",
      "metadata": {
        "colab": {
          "base_uri": "https://localhost:8080/"
        },
        "id": "5MFZ0LQWwpwY",
        "outputId": "86ef1932-0777-4ed3-d574-bc65d4979a20"
      },
      "source": [
        "grid_search.fit(spm, y)\n",
        "print(grid_search.best_estimator_)"
      ],
      "execution_count": null,
      "outputs": [
        {
          "output_type": "stream",
          "text": [
            "Fitting 5 folds for each of 11 candidates, totalling 55 fits\n"
          ],
          "name": "stdout"
        },
        {
          "output_type": "stream",
          "text": [
            "[Parallel(n_jobs=-1)]: Using backend LokyBackend with 2 concurrent workers.\n",
            "[Parallel(n_jobs=-1)]: Done  46 tasks      | elapsed: 278.3min\n",
            "[Parallel(n_jobs=-1)]: Done  55 out of  55 | elapsed: 315.9min finished\n"
          ],
          "name": "stderr"
        },
        {
          "output_type": "stream",
          "text": [
            "[LibSVM]SVC(C=1.0, break_ties=False, cache_size=200, class_weight=None, coef0=0.0,\n",
            "    decision_function_shape='ovr', degree=3, gamma='scale', kernel='linear',\n",
            "    max_iter=-1, probability=False, random_state=241, shrinking=True, tol=0.001,\n",
            "    verbose=True)\n"
          ],
          "name": "stdout"
        }
      ]
    },
    {
      "cell_type": "code",
      "metadata": {
        "id": "KNQulSRTTze1"
      },
      "source": [
        "words_weights = grid_search.best_estimator_.coef_.toarray()[0]\n",
        "words = tfidf.get_feature_names()"
      ],
      "execution_count": null,
      "outputs": []
    },
    {
      "cell_type": "code",
      "metadata": {
        "colab": {
          "base_uri": "https://localhost:8080/"
        },
        "id": "C_QyVIwv2R4R",
        "outputId": "03f3ae56-6767-4ff6-9b85-c5e8655c4723"
      },
      "source": [
        "grid_search.best_estimator_.score(spm, y)"
      ],
      "execution_count": null,
      "outputs": [
        {
          "output_type": "execute_result",
          "data": {
            "text/plain": [
              "0.9924652446142418"
            ]
          },
          "metadata": {
            "tags": []
          },
          "execution_count": 11
        }
      ]
    },
    {
      "cell_type": "markdown",
      "metadata": {
        "id": "r-hC564q8dju"
      },
      "source": [
        "<h1>Getting top words in all news categories"
      ]
    },
    {
      "cell_type": "code",
      "metadata": {
        "id": "HQxv9po7LDzR"
      },
      "source": [
        "top_words = []\n",
        "for word_idx in np.argsort(words_weights)[:10]:\n",
        "  top_words.append(words[word_idx])"
      ],
      "execution_count": null,
      "outputs": []
    },
    {
      "cell_type": "code",
      "metadata": {
        "colab": {
          "base_uri": "https://localhost:8080/"
        },
        "id": "BLoE49jBNfyo",
        "outputId": "ac376313-1e0e-408e-e9d5-9b9f6475f986"
      },
      "source": [
        "print(top_words)"
      ],
      "execution_count": null,
      "outputs": [
        {
          "output_type": "stream",
          "text": [
            "['graphics', 'hacker', 'image', 'computer', 'images', '42', 'thanks', '3d', 'points', 'software']\n"
          ],
          "name": "stdout"
        }
      ]
    }
  ]
}